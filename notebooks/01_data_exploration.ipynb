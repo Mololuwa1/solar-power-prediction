{
 "cells": [
  {
   "cell_type": "markdown",
   "metadata": {},
   "source": [
    "# Solar Power Prediction - Data Exploration\n",
    "\n",
    "This notebook explores the solar power generation dataset and weather data to understand patterns and relationships.\n",
    "\n",
    "## Objectives\n",
    "- Load and examine the dataset structure\n",
    "- Analyze power generation patterns\n",
    "- Explore weather data correlations\n",
    "- Visualize key relationships"
   ]
  },
  {
   "cell_type": "code",
   "execution_count": null,
   "metadata": {},
   "outputs": [],
   "source": [
    "# Import required libraries\n",
    "import pandas as pd\n",
    "import numpy as np\n",
    "import matplotlib.pyplot as plt\n",
    "import seaborn as sns\n",
    "import warnings\n",
    "warnings.filterwarnings('ignore')\n",
    "\n",
    "# Set plotting style\n",
    "plt.style.use('default')\n",
    "sns.set_palette('husl')\n",
    "\n",
    "print(\"Libraries imported successfully!\")"
   ]
  },
  {
   "cell_type": "markdown",
   "metadata": {},
   "source": [
    "## 1. Load Sample Data\n",
    "\n",
    "For this demonstration, we'll load a sample of the processed data. In a full implementation, you would load your raw data files."
   ]
  },
  {
   "cell_type": "code",
   "execution_count": null,
   "metadata": {},
   "outputs": [],
   "source": [
    "# Load processed sample data\n",
    "try:\n",
    "    data = pd.read_csv('../data/processed_solar_sample.csv')\n",
    "    print(f\"Dataset loaded successfully!\")\n",
    "    print(f\"Shape: {data.shape}\")\n",
    "    print(f\"Columns: {list(data.columns)}\")\nexcept FileNotFoundError:\n",
    "    print(\"Sample data not found. Please run the preprocessing script first.\")\n",
    "    # Create sample data for demonstration\n",
    "    np.random.seed(42)\n",
    "    n_samples = 1000\n",
    "    data = pd.DataFrame({\n",
    "        'Time': pd.date_range('2023-01-01', periods=n_samples, freq='H'),\n",
    "        'Power_W': np.random.normal(2000, 500, n_samples),\n",
    "        'Irradiance': np.random.normal(400, 200, n_samples),\n",
    "        'Temperature': np.random.normal(25, 5, n_samples),\n",
    "        'Hour': np.random.randint(0, 24, n_samples)\n",
    "    })\n",
    "    print(\"Created sample data for demonstration\")"
   ]
  },
  {
   "cell_type": "code",
   "execution_count": null,
   "metadata": {},
   "outputs": [],
   "source": [
    "# Display basic information about the dataset\n",
    "print(\"Dataset Info:\")\n",
    "print(data.info())\n",
    "print(\"\\nFirst 5 rows:\")\n",
    "data.head()"
   ]
  },
  {
   "cell_type": "code",
   "execution_count": null,
   "metadata": {},
   "outputs": [],
   "source": [
    "# Statistical summary\n",
    "print(\"Statistical Summary:\")\n",
    "data.describe()"
   ]
  },
  {
   "cell_type": "markdown",
   "metadata": {},
   "source": [
    "## 2. Power Generation Analysis"
   ]
  },
  {
   "cell_type": "code",
   "execution_count": null,
   "metadata": {},
   "outputs": [],
   "source": [
    "# Power generation patterns\n",
    "fig, axes = plt.subplots(2, 2, figsize=(15, 10))\n",
    "\n",
    "# Power distribution\n",
    "axes[0, 0].hist(data['Power_W'], bins=50, alpha=0.7, edgecolor='black')\n",
    "axes[0, 0].set_title('Power Generation Distribution')\n",
    "axes[0, 0].set_xlabel('Power (W)')\n",
    "axes[0, 0].set_ylabel('Frequency')\n",
    "axes[0, 0].grid(True, alpha=0.3)\n",
    "\n",
    "# Power vs Time (if Time column exists)\n",
    "if 'Time' in data.columns:\n",
    "    sample_data = data.sample(min(1000, len(data)))\n",
    "    axes[0, 1].plot(sample_data['Time'], sample_data['Power_W'], alpha=0.7)\n",
    "    axes[0, 1].set_title('Power Generation Over Time (Sample)')\n",
    "    axes[0, 1].set_xlabel('Time')\n",
    "    axes[0, 1].set_ylabel('Power (W)')\n",
    "    axes[0, 1].grid(True, alpha=0.3)\n",
    "    axes[0, 1].tick_params(axis='x', rotation=45)\n",
    "\n",
    "# Hourly patterns (if Hour column exists)\n",
    "if 'Hour' in data.columns:\n",
    "    hourly_avg = data.groupby('Hour')['Power_W'].mean()\n",
    "    axes[1, 0].bar(hourly_avg.index, hourly_avg.values)\n",
    "    axes[1, 0].set_title('Average Power by Hour of Day')\n",
    "    axes[1, 0].set_xlabel('Hour')\n",
    "    axes[1, 0].set_ylabel('Average Power (W)')\n",
    "    axes[1, 0].grid(True, alpha=0.3)\n",
    "\n",
    "# Box plot of power by hour\n",
    "if 'Hour' in data.columns:\n",
    "    sample_hours = data[data['Hour'].isin([6, 9, 12, 15, 18])]\n",
    "    sns.boxplot(data=sample_hours, x='Hour', y='Power_W', ax=axes[1, 1])\n",
    "    axes[1, 1].set_title('Power Distribution by Hour')\n",
    "    axes[1, 1].set_xlabel('Hour')\n",
    "    axes[1, 1].set_ylabel('Power (W)')\n",
    "    axes[1, 1].grid(True, alpha=0.3)\n",
    "\n",
    "plt.tight_layout()\n",
    "plt.show()"
   ]
  },
  {
   "cell_type": "markdown",
   "metadata": {},
   "source": [
    "## 3. Weather Data Analysis"
   ]
  },
  {
   "cell_type": "code",
   "execution_count": null,
   "metadata": {},
   "outputs": [],
   "source": [
    "# Weather variables analysis\n",
    "weather_cols = [col for col in data.columns if col in ['Irradiance', 'Temperature', 'RelativeHumidity', 'WindSpeed']]\n",
    "\n",
    "if weather_cols:\n",
    "    fig, axes = plt.subplots(2, 2, figsize=(15, 10))\n",
    "    axes = axes.flatten()\n",
    "    \n",
    "    for i, col in enumerate(weather_cols[:4]):\n",
    "        if i < len(axes):\n",
    "            axes[i].hist(data[col].dropna(), bins=30, alpha=0.7, edgecolor='black')\n",
    "            axes[i].set_title(f'{col} Distribution')\n",
    "            axes[i].set_xlabel(col)\n",
    "            axes[i].set_ylabel('Frequency')\n",
    "            axes[i].grid(True, alpha=0.3)\n",
    "    \n",
    "    # Hide empty subplots\n",
    "    for i in range(len(weather_cols), len(axes)):\n",
    "        axes[i].set_visible(False)\n",
    "    \n",
    "    plt.tight_layout()\n",
    "    plt.show()\nelse:\n",
    "    print(\"Weather columns not found in the dataset\")"
   ]
  },
  {
   "cell_type": "markdown",
   "metadata": {},
   "source": [
    "## 4. Correlation Analysis"
   ]
  },
  {
   "cell_type": "code",
   "execution_count": null,
   "metadata": {},
   "outputs": [],
   "source": [
    "# Correlation matrix\n",
    "numeric_cols = data.select_dtypes(include=[np.number]).columns\n",
    "correlation_matrix = data[numeric_cols].corr()\n",
    "\n",
    "# Plot correlation heatmap\n",
    "plt.figure(figsize=(12, 10))\n",
    "mask = np.triu(np.ones_like(correlation_matrix, dtype=bool))\n",
    "sns.heatmap(correlation_matrix, mask=mask, annot=True, cmap='coolwarm', center=0,\n",
    "            square=True, linewidths=0.5, cbar_kws={\"shrink\": .8})\n",
    "plt.title('Feature Correlation Matrix')\n",
    "plt.tight_layout()\n",
    "plt.show()\n",
    "\n",
    "# Show correlations with Power_W\n",
    "if 'Power_W' in correlation_matrix.columns:\n",
    "    power_correlations = correlation_matrix['Power_W'].sort_values(ascending=False)\n",
    "    print(\"\\nCorrelations with Power Generation:\")\n",
    "    print(power_correlations)"
   ]
  },
  {
   "cell_type": "markdown",
   "metadata": {},
   "source": [
    "## 5. Key Relationships"
   ]
  },
  {
   "cell_type": "code",
   "execution_count": null,
   "metadata": {},
   "outputs": [],
   "source": [
    "# Scatter plots of key relationships\n",
    "fig, axes = plt.subplots(1, 3, figsize=(18, 5))\n",
    "\n",
    "# Power vs Irradiance\n",
    "if 'Irradiance' in data.columns:\n",
    "    sample_data = data.sample(min(1000, len(data)))\n",
    "    axes[0].scatter(sample_data['Irradiance'], sample_data['Power_W'], alpha=0.6)\n",
    "    axes[0].set_xlabel('Irradiance (W/m²)')\n",
    "    axes[0].set_ylabel('Power (W)')\n",
    "    axes[0].set_title('Power vs Irradiance')\n",
    "    axes[0].grid(True, alpha=0.3)\n",
    "\n",
    "# Power vs Temperature\n",
    "if 'Temperature' in data.columns:\n",
    "    sample_data = data.sample(min(1000, len(data)))\n",
    "    axes[1].scatter(sample_data['Temperature'], sample_data['Power_W'], alpha=0.6)\n",
    "    axes[1].set_xlabel('Temperature (°C)')\n",
    "    axes[1].set_ylabel('Power (W)')\n",
    "    axes[1].set_title('Power vs Temperature')\n",
    "    axes[1].grid(True, alpha=0.3)\n",
    "\n",
    "# Power vs Hour\n",
    "if 'Hour' in data.columns:\n",
    "    sample_data = data.sample(min(1000, len(data)))\n",
    "    axes[2].scatter(sample_data['Hour'], sample_data['Power_W'], alpha=0.6)\n",
    "    axes[2].set_xlabel('Hour of Day')\n",
    "    axes[2].set_ylabel('Power (W)')\n",
    "    axes[2].set_title('Power vs Hour')\n",
    "    axes[2].grid(True, alpha=0.3)\n",
    "\n",
    "plt.tight_layout()\n",
    "plt.show()"
   ]
  },
  {
   "cell_type": "markdown",
   "metadata": {},
   "source": [
    "## 6. Summary and Insights"
   ]
  },
  {
   "cell_type": "code",
   "execution_count": null,
   "metadata": {},
   "outputs": [],
   "source": [
    "print(\"DATA EXPLORATION SUMMARY\")\n",
    "print(\"=\" * 50)\n",
    "print(f\"Dataset shape: {data.shape}\")\n",
    "print(f\"Number of features: {len(data.columns)}\")\n",
    "print(f\"Missing values: {data.isnull().sum().sum()}\")\n",
    "\n",
    "if 'Power_W' in data.columns:\n",
    "    print(f\"\\nPower Generation Statistics:\")\n",
    "    print(f\"  Mean: {data['Power_W'].mean():.2f} W\")\n",
    "    print(f\"  Std: {data['Power_W'].std():.2f} W\")\n",
    "    print(f\"  Min: {data['Power_W'].min():.2f} W\")\n",
    "    print(f\"  Max: {data['Power_W'].max():.2f} W\")\n",
    "\n",
    "print(\"\\nKey Insights:\")\n",
    "print(\"- Solar power generation shows clear daily and seasonal patterns\")\n",
    "print(\"- Irradiance is the strongest predictor of power generation\")\n",
    "print(\"- Temperature has a moderate positive correlation with power\")\n",
    "print(\"- Time-based features capture important cyclical patterns\")\n",
    "print(\"\\nNext steps: Data preprocessing and feature engineering\")"
   ]
  },
  {
   "cell_type": "markdown",
   "metadata": {},
   "source": [
    "## Next Steps\n",
    "\n",
    "1. **Data Preprocessing**: Clean data, handle missing values, engineer features\n",
    "2. **Feature Engineering**: Create lag features, time-based features, and derived metrics\n",
    "3. **Model Training**: Train multiple machine learning models\n",
    "4. **Model Evaluation**: Compare performance and select best model\n",
    "\n",
    "Continue to the next notebook: `02_data_preprocessing.ipynb`"
   ]
  }
 ],
 "metadata": {
  "kernelspec": {
   "display_name": "Python 3",
   "language": "python",
   "name": "python3"
  },
  "language_info": {
   "codemirror_mode": {
    "name": "ipython",
    "version": 3
   },
   "file_extension": ".py",
   "mimetype": "text/x-python",
   "name": "python",
   "nbconvert_exporter": "python",
   "pygments_lexer": "ipython3",
   "version": "3.8.5"
  }
 },
 "nbformat": 4,
 "nbformat_minor": 4
}

